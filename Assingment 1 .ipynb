{
 "cells": [
  {
   "cell_type": "raw",
   "id": "0d02ba39-0535-4478-8207-534c60ece846",
   "metadata": {},
   "source": [
    "1.QUESTION > What is Python and why it is popular ?\n",
    "1.ANSWER > Python is a programming language which helps giving instructionto a computer to perform task.\n",
    "           Python is popular because-\n",
    "           1. Simpicity.\n",
    "           2. Versatility.\n",
    "           3. Cross Platform compatibility.\n",
    "           4. Openn Source.\n",
    "           5. Communication and Ecosytem.\n",
    "           6. Large Libraries."
   ]
  },
  {
   "cell_type": "raw",
   "id": "53ee71fc-9309-4f0c-a447-7dcf871bfc5f",
   "metadata": {},
   "source": [
    "2.QUESTION > What is interpreter in Python ?\n",
    "2.Answer >  An interpreter in Python is a program that reads and runs code one line at a time. When we write a Pyhton program, the interpreter:\n",
    "            1. Reads the code.\n",
    "            2. Understands what each line means.\n",
    "            3. Runs the code step by step."
   ]
  },
  {
   "cell_type": "raw",
   "id": "a6fb227c-5e3c-4dcb-af20-fe633a26a775",
   "metadata": {},
   "source": [
    "3.QUESTION > What are pre-defined keywords in Python ?\n",
    "3.ANSWER > Pre-defined keywords in Python are special words that have fixed meaning in the language. We cannot use them as names\n",
    "           for variables,function or anything else.\n",
    "           They are used to define rules,logic and structure in Pyhton code."
   ]
  },
  {
   "cell_type": "raw",
   "id": "a7a293f4-661e-4718-beb8-60507de85119",
   "metadata": {},
   "source": [
    "4.Question > Can keywords be used as variable names ?\n",
    "4.ANSWER > NO, keywords cannot be used as variable name because keywords have special meaning."
   ]
  },
  {
   "cell_type": "raw",
   "id": "1b4c14c7-ad05-452d-8f27-b2a5c5f873d1",
   "metadata": {},
   "source": [
    "5.QUESTION > What is mutability in Python ?\n",
    "5.ANSWER > Mutability in Python is when object/container whose state or value can be changed after they are created\n",
    "           is called mutability in Pyhton."
   ]
  },
  {
   "cell_type": "raw",
   "id": "f3eee569-0206-44e8-9235-c014617482ab",
   "metadata": {},
   "source": [
    "6.QUESTION >  Why are lists mutable, but tuples are immutable ?\n",
    "6. ANSWER > List are mutable because they are meant for dynamic data wherea as tuple are immutable because they are meant for fixed data\n",
    "            and constant data."
   ]
  },
  {
   "cell_type": "raw",
   "id": "ce614a22-2850-428a-8213-513bdfc3fed9",
   "metadata": {},
   "source": [
    "7.QUESTION >  What is the difference between “==” and “is” operators in Python ?\n",
    "7. ANSWER > \"==\" is a equality operator if two variable has the same valueeven if they are different objects or helps in comparison where as\n",
    "            \"is\" is the identity operator check if two variable point to the same object in the memory."
   ]
  },
  {
   "cell_type": "raw",
   "id": "8308ad0c-a1f3-4ccb-9b6a-a87f4301bfbf",
   "metadata": {},
   "source": [
    "8.QUESTION >  What are logical operators in Python ?\n",
    "8. ANSWER >  Logical operator are used to combine or compare two or more conditions. There are 3 logical operators in python\n",
    "             1.AND (True if both are True)\n",
    "             2.OR (True if atleast one is True)\n",
    "             3.Not (Reverse the condition)"
   ]
  },
  {
   "cell_type": "raw",
   "id": "6d8fee0b-63af-4d8a-bfeb-429a56c2267f",
   "metadata": {},
   "source": [
    "9.QUESTION >  What is type casting in Python ?\n",
    "9.ANSWER >  Type casting means converting one data type to another. For example, changing a number into string or a string into integer."
   ]
  },
  {
   "cell_type": "raw",
   "id": "32300f89-122e-40b1-9d99-89d69f0d7cc1",
   "metadata": {},
   "source": [
    "10.QUESTION >  What is the difference between implicit and explicit type casting ?\n",
    "10.ANSWER > In implicit type casting Python converts data types on it's own when needed where as in  explicit type casting yser has to \n",
    "            convert data type yourself using built in function like int(), str(), bool(), float()."
   ]
  },
  {
   "cell_type": "raw",
   "id": "2501b408-d434-4ab6-9a00-f6976e314523",
   "metadata": {},
   "source": [
    "11.QUESTION > What is the purpose of conditional statements in Python ?\n",
    "11. ANSWER > The purpose of conditional statement in python is to execute certain blocks of code based on specific conditions. These statements help                control the flow of a program, making it behave differently in different situations."
   ]
  },
  {
   "cell_type": "raw",
   "id": "a9168b24-09cd-4345-a1f4-d34865fbebf7",
   "metadata": {},
   "source": [
    "12.QUESTION > How does the elif statement work ?\n",
    "12.ANSWER > It stands for \"else if.\" It allows us to check multiple conditions, providing a way to execute different blocks of code based on which                 condition is true. Using elif statements makes our code more readable and efficient by eliminating the need for multiple nested if                     statements.  "
   ]
  },
  {
   "cell_type": "raw",
   "id": "5ffc0f26-212a-4d4d-8118-937265b3ad5a",
   "metadata": {},
   "source": [
    "13.QUESTION > What is the difference between for and while loops ?\n",
    "13.ANSWER > A 'for' loop is a control structure in programming that allows you to execute a block of code repeatedly for a specific number of times.               This loop is handy when you know how many times you need to iterate through a code block where as A 'while' loop is a crucial control                  structure in programming. It allows the execution of a block of code repeatedly while a specified condition is true. In contrast to a                  'for' loop, which is generally used when the number of iterations is known beforehand, a 'while' loop is ideal for situations where the                number of iterations is not predetermined and depends on some dynamic condition."
   ]
  },
  {
   "cell_type": "raw",
   "id": "4427a078-ef55-46f5-9d42-8352b5535ebf",
   "metadata": {},
   "source": []
  },
  {
   "cell_type": "code",
   "execution_count": null,
   "id": "4bc82852-57ad-4a80-8e97-3f4bf2d5768e",
   "metadata": {},
   "outputs": [],
   "source": []
  },
  {
   "cell_type": "code",
   "execution_count": null,
   "id": "a78cf8f9-87d8-4ef2-9426-7147d3a43ac3",
   "metadata": {},
   "outputs": [],
   "source": []
  },
  {
   "cell_type": "raw",
   "id": "de31a7ff-bde3-471f-8e4d-02292ce960e9",
   "metadata": {},
   "source": [
    "PRACTICAL QUESTON -"
   ]
  },
  {
   "cell_type": "code",
   "execution_count": 4,
   "id": "74af6f43-b854-44d9-9f6a-5f95ef8628db",
   "metadata": {},
   "outputs": [
    {
     "name": "stdout",
     "output_type": "stream",
     "text": [
      "Hello,World!\n"
     ]
    }
   ],
   "source": [
    "# 1. Write a python program to print \"Hello world\"?\n",
    "# 1. Answer\n",
    "print(\"Hello,World!\")"
   ]
  },
  {
   "cell_type": "code",
   "execution_count": 5,
   "id": "1d9f73cb-17f3-4fe0-8fc6-186aa7bfbbd4",
   "metadata": {},
   "outputs": [
    {
     "name": "stdout",
     "output_type": "stream",
     "text": [
      "Abhishek Gupta\n",
      "Age 25\n"
     ]
    }
   ],
   "source": [
    "# 2. Write a Python program that displays your name and age?\n",
    "# 2. Answer\n",
    "print(\"Abhishek Gupta\")\n",
    "print(\"Age 25\")"
   ]
  },
  {
   "cell_type": "code",
   "execution_count": 4,
   "id": "8b7edc07-9a15-4b26-a50a-1ea54c7c81e6",
   "metadata": {},
   "outputs": [
    {
     "name": "stdout",
     "output_type": "stream",
     "text": [
      "False\n",
      "None\n",
      "True\n",
      "and\n",
      "as\n",
      "assert\n",
      "async\n",
      "await\n",
      "break\n",
      "class\n",
      "continue\n",
      "def\n",
      "del\n",
      "elif\n",
      "else\n",
      "except\n",
      "finally\n",
      "for\n",
      "from\n",
      "global\n",
      "if\n",
      "import\n",
      "in\n",
      "is\n",
      "lambda\n",
      "nonlocal\n",
      "not\n",
      "or\n",
      "pass\n",
      "raise\n",
      "return\n",
      "try\n",
      "while\n",
      "with\n",
      "yield\n"
     ]
    }
   ],
   "source": [
    "# 3. Write code to print all the pre-defined keywords in Python using the keyword library ?\n",
    "# 3. Answer\n",
    "import keyword\n",
    "key_words=keyword.kwlist\n",
    "for key in key_words:\n",
    "    print(key)"
   ]
  },
  {
   "cell_type": "code",
   "execution_count": null,
   "id": "4500e3eb-8a2f-4434-a791-bb7b82eef53d",
   "metadata": {},
   "outputs": [],
   "source": [
    "# 4. Write a program that checks if a given word is a Python keyword ?"
   ]
  },
  {
   "cell_type": "code",
   "execution_count": 46,
   "id": "5d52afc3-a9a5-41a3-998a-a5039e08855b",
   "metadata": {},
   "outputs": [
    {
     "name": "stdout",
     "output_type": "stream",
     "text": [
      "['Rohit', 'Virat', 'Rahul']\n",
      "(178, 98, 65)\n",
      "['Sachin', 'Virat', 'Rahul']\n",
      "(100, 98, 65)\n"
     ]
    }
   ],
   "source": [
    "#5. Create a list and tuple in Python, and demonstrate how attempting to change an element works differently for each?\n",
    "#list\n",
    "player_name=[\"Rohit\",\"Virat\",\"Rahul\"]\n",
    "print(player_name)\n",
    "#tuple\n",
    "Runs=(178,98,65)\n",
    "print(Runs)\n",
    "#changing an elemet in list \n",
    "player_name[0]=\"Sachin\"\n",
    "print(player_name)\n",
    "# we cannot modify the element in tuple.\n",
    "Runs=(100,98,65)\n",
    "print(Runs)"
   ]
  },
  {
   "cell_type": "code",
   "execution_count": 57,
   "id": "ee8c8fcc-1179-4ebd-9e09-0fd49816066d",
   "metadata": {},
   "outputs": [
    {
     "name": "stdout",
     "output_type": "stream",
     "text": [
      "['z', 'x', 'c', 'v', 'b']\n",
      "('w', 'e', 'r', 't', 'y')\n"
     ]
    },
    {
     "ename": "TypeError",
     "evalue": "'tuple' object does not support item assignment",
     "output_type": "error",
     "traceback": [
      "\u001b[31m---------------------------------------------------------------------------\u001b[39m",
      "\u001b[31mTypeError\u001b[39m                                 Traceback (most recent call last)",
      "\u001b[36mCell\u001b[39m\u001b[36m \u001b[39m\u001b[32mIn[57]\u001b[39m\u001b[32m, line 7\u001b[39m\n\u001b[32m      5\u001b[39m \u001b[38;5;28mprint\u001b[39m(b)\n\u001b[32m      6\u001b[39m a[\u001b[32m0\u001b[39m]=\u001b[33m\"\u001b[39m\u001b[33mf\u001b[39m\u001b[33m\"\u001b[39m\n\u001b[32m----> \u001b[39m\u001b[32m7\u001b[39m \u001b[43mb\u001b[49m\u001b[43m[\u001b[49m\u001b[32;43m0\u001b[39;49m\u001b[43m]\u001b[49m=\u001b[33m\"\u001b[39m\u001b[33ml\u001b[39m\u001b[33m\"\u001b[39m\n",
      "\u001b[31mTypeError\u001b[39m: 'tuple' object does not support item assignment"
     ]
    }
   ],
   "source": [
    "#6. Write a function to demonstrate the behavior of mutable and immutable arguments?\n",
    "a=[\"z\",\"x\",\"c\",\"v\",\"b\"]\n",
    "print(a)\n",
    "b=(\"w\",\"e\",\"r\",\"t\",\"y\")\n",
    "print(b)\n",
    "a[0]=\"f\"\n",
    "b[0]=\"l\""
   ]
  },
  {
   "cell_type": "code",
   "execution_count": 53,
   "id": "4025146a-2e95-4bc9-b5bb-da5c2f339d25",
   "metadata": {},
   "outputs": [
    {
     "name": "stdin",
     "output_type": "stream",
     "text": [
      "Pleaese enter the first number 5\n",
      "Please enter the second number 2\n"
     ]
    },
    {
     "name": "stdout",
     "output_type": "stream",
     "text": [
      "7 3 10 2.5 2 1 25\n"
     ]
    }
   ],
   "source": [
    "#7. Write a program that performs basic arithmetic operations on two user-input numbers?\n",
    "num_1=int(input(\"Pleaese enter the first number\"))\n",
    "num_2=int(input(\"Please enter the second number\"))\n",
    "#Basic airthmetic operation\n",
    "#sum\n",
    "x=num_1+num_2\n",
    "y=num_1-num_2\n",
    "z=num_1*num_2\n",
    "a=num_1/num_2\n",
    "b=num_1 // num_2\n",
    "\n",
    "c=num_1%num_2\n",
    "d=num_1**num_2\n",
    "print(x,y,z,a,b,c,d)"
   ]
  },
  {
   "cell_type": "code",
   "execution_count": 48,
   "id": "5daf1761-cd8d-4588-bd0d-978df08af66d",
   "metadata": {},
   "outputs": [
    {
     "name": "stdin",
     "output_type": "stream",
     "text": [
      "Enter the age 5\n"
     ]
    },
    {
     "name": "stdout",
     "output_type": "stream",
     "text": [
      "5.0\n",
      "True\n"
     ]
    }
   ],
   "source": [
    "#9.Write a Python program to convert user input from string to integer, float, and boolean types?\n",
    "Age=int(input(\"Enter the age\"))\n",
    "print(float(Age))\n",
    "print(bool(Age))"
   ]
  },
  {
   "cell_type": "code",
   "execution_count": 50,
   "id": "ba1f1bf4-1325-4615-8834-56b4007b01c8",
   "metadata": {},
   "outputs": [
    {
     "data": {
      "text/plain": [
       "list"
      ]
     },
     "execution_count": 50,
     "metadata": {},
     "output_type": "execute_result"
    }
   ],
   "source": [
    "#10. Write code to demonstrate type casting with list elements?\n",
    "list=[\"a\",\"b\",\"c\",\"d\",\"e\",\"f\"]\n",
    "type(list)"
   ]
  },
  {
   "cell_type": "code",
   "execution_count": 42,
   "id": "6260a98f-c7d0-46dd-b262-ff0dde41c8d6",
   "metadata": {},
   "outputs": [
    {
     "name": "stdin",
     "output_type": "stream",
     "text": [
      "Please enter the number -8\n"
     ]
    },
    {
     "name": "stdout",
     "output_type": "stream",
     "text": [
      "number is negatvive\n"
     ]
    }
   ],
   "source": [
    "#11. Write a program that checks if a number is positive, negative, or zero?\n",
    "a=int(input(\"Please enter the number\"))\n",
    "if a > 0:\n",
    "    print(\"Number is positive\")\n",
    "if a<0:\n",
    "    print(\"number is negatvive\")\n",
    "if a==0:\n",
    "    print(\"number is zero\")"
   ]
  },
  {
   "cell_type": "code",
   "execution_count": 8,
   "id": "19542ea4-f6ec-4686-bfb1-4aea8384a36c",
   "metadata": {},
   "outputs": [
    {
     "name": "stdout",
     "output_type": "stream",
     "text": [
      "1\n",
      "2\n",
      "3\n",
      "4\n",
      "5\n",
      "6\n",
      "7\n",
      "8\n",
      "9\n",
      "10\n"
     ]
    }
   ],
   "source": [
    "#12. Write a for loop to print numbers from 1 to 10?\n",
    "for value in range(1,11):\n",
    "    print(value)"
   ]
  },
  {
   "cell_type": "code",
   "execution_count": 18,
   "id": "d9485879-2066-401e-b205-eab67bdd5f6a",
   "metadata": {},
   "outputs": [
    {
     "name": "stdout",
     "output_type": "stream",
     "text": [
      "[2, 4, 6, 8, 10, 12, 14, 16, 18, 20, 22, 24, 26, 28, 30, 32, 34, 36, 38, 40, 42, 44, 46, 48, 50]\n",
      "The sum of all even number is 650\n"
     ]
    }
   ],
   "source": [
    "#13.Write a Python program to find the sum of all even numbers between 1 and 50?\n",
    "even_number=list(range(2,51,2))\n",
    "print(even_number)\n",
    "print(\"The sum of all even number is\" \" \" + str(sum(even_number)))"
   ]
  },
  {
   "cell_type": "code",
   "execution_count": null,
   "id": "cbbffdb0-bd13-424e-aece-a09cf6119c80",
   "metadata": {},
   "outputs": [],
   "source": []
  },
  {
   "cell_type": "code",
   "execution_count": null,
   "id": "bbdff453-5ce1-432d-b9c3-e86022aa1f68",
   "metadata": {},
   "outputs": [],
   "source": []
  },
  {
   "cell_type": "code",
   "execution_count": null,
   "id": "3fb38895-b7bb-40b7-81c5-96c169972540",
   "metadata": {},
   "outputs": [],
   "source": []
  },
  {
   "cell_type": "code",
   "execution_count": null,
   "id": "f16dfaf5-5ed0-4d6d-bc15-07bbcb7754ac",
   "metadata": {},
   "outputs": [],
   "source": []
  },
  {
   "cell_type": "code",
   "execution_count": null,
   "id": "8c6a3df7-4839-4fec-bc90-6fd2d091d8d6",
   "metadata": {},
   "outputs": [],
   "source": []
  },
  {
   "cell_type": "code",
   "execution_count": null,
   "id": "2f3dfb82-4409-49ee-b501-770485b21687",
   "metadata": {},
   "outputs": [],
   "source": []
  },
  {
   "cell_type": "code",
   "execution_count": null,
   "id": "8b362396-ad38-4d93-b58d-32f228192835",
   "metadata": {},
   "outputs": [],
   "source": []
  },
  {
   "cell_type": "code",
   "execution_count": null,
   "id": "92d86bee-093a-4ff9-82bf-c37b5770d5de",
   "metadata": {},
   "outputs": [],
   "source": []
  }
 ],
 "metadata": {
  "kernelspec": {
   "display_name": "Python 3 (ipykernel)",
   "language": "python",
   "name": "python3"
  },
  "language_info": {
   "codemirror_mode": {
    "name": "ipython",
    "version": 3
   },
   "file_extension": ".py",
   "mimetype": "text/x-python",
   "name": "python",
   "nbconvert_exporter": "python",
   "pygments_lexer": "ipython3",
   "version": "3.13.3"
  }
 },
 "nbformat": 4,
 "nbformat_minor": 5
}
